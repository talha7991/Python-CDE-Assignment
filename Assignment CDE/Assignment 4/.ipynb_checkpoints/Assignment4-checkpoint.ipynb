{
 "cells": [
  {
   "cell_type": "code",
   "execution_count": 2,
   "id": "83f6c2ff-6753-478f-aabf-b8df0a4ea325",
   "metadata": {},
   "outputs": [
    {
     "name": "stdin",
     "output_type": "stream",
     "text": [
      "Enter a list:  1,2,3,4,5,6,7,8,9\n"
     ]
    },
    {
     "name": "stdout",
     "output_type": "stream",
     "text": [
      "Alternate elements are:\n",
      "1\n",
      "3\n",
      "5\n",
      "7\n",
      "9\n"
     ]
    }
   ],
   "source": [
    " # Write a program that accepts a list from user and print the alternate element of list.\n",
    "\n",
    "lst = eval(input(\"Enter a list: \"))\n",
    "print(\"Alternate elements are:\")\n",
    "for i in range(0, len(lst), 2):\n",
    "    print(lst[i])"
   ]
  },
  {
   "cell_type": "code",
   "execution_count": 3,
   "id": "9746f7a4-4f7e-40df-9a85-b9696f600c7c",
   "metadata": {},
   "outputs": [
    {
     "name": "stdin",
     "output_type": "stream",
     "text": [
      "Enter a list:  12,13,14,16,17\n"
     ]
    },
    {
     "name": "stdout",
     "output_type": "stream",
     "text": [
      "Reversed list is: [17, 16, 14, 13, 12]\n"
     ]
    }
   ],
   "source": [
    "#  Write a program that accepts a list from user. Your program should reverse the content of list and \n",
    "# display it. Do not use reverse() method.\n",
    "\n",
    "lst = eval(input(\"Enter a list: \"))\n",
    "reversed_lst = []\n",
    "for i in range(len(lst)-1, -1, -1):\n",
    "    reversed_lst.append(lst[i])\n",
    "print(\"Reversed list is:\", reversed_lst)"
   ]
  },
  {
   "cell_type": "code",
   "execution_count": 4,
   "id": "147dd3e2-036e-4a05-b5bf-f6bb3119076b",
   "metadata": {},
   "outputs": [
    {
     "name": "stdin",
     "output_type": "stream",
     "text": [
      "Enter a list of numbers:  1,2,3,4,10\n"
     ]
    },
    {
     "name": "stdout",
     "output_type": "stream",
     "text": [
      "Largest number: 10\n"
     ]
    }
   ],
   "source": [
    "#  Find and display the largest number of a list without using built-in function max(). Your program \n",
    "# should ask the user to input values in list from keyboard.  \n",
    "\n",
    "lst = eval(input(\"Enter a list of numbers: \"))\n",
    "largest = lst[0]\n",
    "for num in lst:\n",
    "    if num > largest:\n",
    "        largest = num\n",
    "print(\"Largest number:\", largest)"
   ]
  },
  {
   "cell_type": "code",
   "execution_count": 5,
   "id": "4c5d913a-abdc-4141-8a35-f58f3cba19f8",
   "metadata": {},
   "outputs": [
    {
     "name": "stdin",
     "output_type": "stream",
     "text": [
      "Enter a list:  12,14,16,13,17\n"
     ]
    },
    {
     "name": "stdout",
     "output_type": "stream",
     "text": [
      "Rotated list: [17, 12, 14, 16, 13]\n"
     ]
    }
   ],
   "source": [
    "# Write a program that rotates the element of a list so that the element at the first index moves to the \n",
    "# second index, the element in the second index moves to the third index, etc., and the element in the last \n",
    "# index moves to the first index.  \n",
    "\n",
    "lst = eval(input(\"Enter a list: \"))\n",
    "rotated = [lst[-1]]\n",
    "for i in range(len(lst)-1):\n",
    "    rotated.append(lst[i])\n",
    "print(\"Rotated list:\", rotated)\n"
   ]
  },
  {
   "cell_type": "code",
   "execution_count": 6,
   "id": "f023cc62-7ff1-4051-a3d3-9a2ed0a76a72",
   "metadata": {},
   "outputs": [
    {
     "name": "stdin",
     "output_type": "stream",
     "text": [
      "Enter a string:  Hello Pakistan\n",
      "Enter word to delete:  tan\n"
     ]
    },
    {
     "name": "stdout",
     "output_type": "stream",
     "text": [
      "New string: Hello Pakis\n"
     ]
    }
   ],
   "source": [
    " # Write a program that input a string and ask user to delete a given word from a string.\n",
    "\n",
    "s = input(\"Enter a string: \")\n",
    "word = input(\"Enter word to delete: \")\n",
    "new_s = s.replace(word, \"\")\n",
    "print(\"New string:\", new_s)\n"
   ]
  },
  {
   "cell_type": "code",
   "execution_count": 7,
   "id": "083d59b6-51dd-4641-9325-6a014172b0ee",
   "metadata": {},
   "outputs": [
    {
     "name": "stdin",
     "output_type": "stream",
     "text": [
      "Enter date (mm/dd/yyyy):  01/12/2000\n"
     ]
    },
    {
     "name": "stdout",
     "output_type": "stream",
     "text": [
      "January 12, 2000\n"
     ]
    }
   ],
   "source": [
    "# Write a program that reads a string from the user containing a date in the form mm/dd/yyyy. It \n",
    "# should print the date in the form March 12, 2021. \n",
    "\n",
    "s = input(\"Enter date (mm/dd/yyyy): \")\n",
    "months = [\"January\",\"February\",\"March\",\"April\",\"May\",\"June\",\"July\",\"August\",\"September\",\"October\",\"November\",\"December\"]\n",
    "parts = s.split(\"/\")\n",
    "month = months[int(parts[0])-1]\n",
    "day = parts[1]\n",
    "year = parts[2]\n",
    "print(month, day+\",\", year)\n"
   ]
  },
  {
   "cell_type": "code",
   "execution_count": 9,
   "id": "1ee302ea-29d6-4a25-89a8-947423176a2e",
   "metadata": {},
   "outputs": [
    {
     "name": "stdin",
     "output_type": "stream",
     "text": [
      "Enter a sentence:  hello smit pakistan\n"
     ]
    },
    {
     "name": "stdout",
     "output_type": "stream",
     "text": [
      "Capitalized: Hello Smit Pakistan\n"
     ]
    }
   ],
   "source": [
    "#  Write a program with a function that accepts a string from keyboard and create a new string after \n",
    "# converting character of each word capitalized. For instance, if the sentence is \"stop and smell the roses.\" \n",
    "# the output should be \"Stop And Smell The Roses\"\n",
    "\n",
    "s = input(\"Enter a sentence: \")\n",
    "words = s.split()\n",
    "new_s = \"\"\n",
    "for w in words:\n",
    "    new_s += w[0].upper() + w[1:] + \" \"\n",
    "print(\"Capitalized:\", new_s.strip())"
   ]
  },
  {
   "cell_type": "code",
   "execution_count": 12,
   "id": "a982b2fe-ef1e-43eb-94e4-5e0a6e8a0f80",
   "metadata": {},
   "outputs": [],
   "source": [
    " # Question 8\n",
    "# Can't Understand?"
   ]
  },
  {
   "cell_type": "code",
   "execution_count": 13,
   "id": "3cf4183d-6346-43f5-8bc1-fef1f6280b3e",
   "metadata": {},
   "outputs": [],
   "source": [
    " # Question 9\n",
    "# Can't Understand?"
   ]
  },
  {
   "cell_type": "code",
   "execution_count": null,
   "id": "9e5cc43d-bb87-4002-a725-235051300536",
   "metadata": {},
   "outputs": [],
   "source": [
    " # Question 10\n",
    "# Can't Understand?"
   ]
  }
 ],
 "metadata": {
  "kernelspec": {
   "display_name": "Python 3 (ipykernel)",
   "language": "python",
   "name": "python3"
  },
  "language_info": {
   "codemirror_mode": {
    "name": "ipython",
    "version": 3
   },
   "file_extension": ".py",
   "mimetype": "text/x-python",
   "name": "python",
   "nbconvert_exporter": "python",
   "pygments_lexer": "ipython3",
   "version": "3.13.5"
  }
 },
 "nbformat": 4,
 "nbformat_minor": 5
}
