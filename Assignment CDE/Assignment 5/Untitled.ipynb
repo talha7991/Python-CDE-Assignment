{
 "cells": [
  {
   "cell_type": "code",
   "execution_count": 1,
   "id": "d7572542-4871-488e-9d1a-5860d49bbf86",
   "metadata": {},
   "outputs": [
    {
     "name": "stdout",
     "output_type": "stream",
     "text": [
      "1\n",
      "2\n",
      "3\n",
      "4\n",
      "5\n",
      "6\n",
      "7\n",
      "8\n",
      "9\n",
      "10\n"
     ]
    }
   ],
   "source": [
    " # Write a Python program to print the numbers from 1 to 10 using a for loop.  \n",
    "for i in range(1, 11):\n",
    "    print(i)"
   ]
  },
  {
   "cell_type": "code",
   "execution_count": 2,
   "id": "29b0b61a-dda8-4ded-aba5-1b4410ff3a4e",
   "metadata": {},
   "outputs": [
    {
     "name": "stdout",
     "output_type": "stream",
     "text": [
      "20\n",
      "19\n",
      "18\n",
      "17\n",
      "16\n",
      "15\n",
      "14\n",
      "13\n",
      "12\n",
      "11\n",
      "10\n",
      "9\n",
      "8\n",
      "7\n",
      "6\n",
      "5\n",
      "4\n",
      "3\n",
      "2\n",
      "1\n"
     ]
    }
   ],
   "source": [
    "# Write a Python program to print the numbers from 20 to 1 using a while loop.\n",
    "\n",
    "i = 20\n",
    "while i >= 1:\n",
    "    print(i)\n",
    "    i -= 1"
   ]
  },
  {
   "cell_type": "code",
   "execution_count": 3,
   "id": "bdfd33d8-4b1d-419b-8895-5178278584fe",
   "metadata": {},
   "outputs": [
    {
     "name": "stdout",
     "output_type": "stream",
     "text": [
      "2\n",
      "4\n",
      "6\n",
      "8\n",
      "10\n"
     ]
    }
   ],
   "source": [
    " # Write a program to print even numbers from 1 to 10.  \n",
    "\n",
    "for i in range(1, 11):\n",
    "    if i % 2 == 0:\n",
    "        print(i)"
   ]
  },
  {
   "cell_type": "code",
   "execution_count": 4,
   "id": "d5898b35-7a3c-4840-895d-5ad9b37be7b0",
   "metadata": {},
   "outputs": [
    {
     "name": "stdin",
     "output_type": "stream",
     "text": [
      "Enter a number:  24\n"
     ]
    },
    {
     "name": "stdout",
     "output_type": "stream",
     "text": [
      "1\n",
      "2\n",
      "3\n",
      "4\n",
      "5\n",
      "6\n",
      "7\n",
      "8\n",
      "9\n",
      "10\n",
      "11\n",
      "12\n",
      "13\n",
      "14\n",
      "15\n",
      "16\n",
      "17\n",
      "18\n",
      "19\n",
      "20\n",
      "21\n",
      "22\n",
      "23\n",
      "24\n"
     ]
    }
   ],
   "source": [
    "# Write a program that prompts the user to enter a number n and prints all the \n",
    "# numbers from 1 to n.\n",
    "\n",
    "n = int(input(\"Enter a number: \"))\n",
    "for i in range(1, n+1):\n",
    "    print(i)"
   ]
  },
  {
   "cell_type": "code",
   "execution_count": 5,
   "id": "f41d72ea-d157-44a5-8b8d-a458ca91b55b",
   "metadata": {},
   "outputs": [
    {
     "name": "stdin",
     "output_type": "stream",
     "text": [
      "Enter a number:  23\n"
     ]
    },
    {
     "name": "stdout",
     "output_type": "stream",
     "text": [
      "1\n",
      "3\n",
      "5\n",
      "7\n",
      "9\n",
      "11\n",
      "13\n",
      "15\n",
      "17\n",
      "19\n",
      "21\n",
      "23\n"
     ]
    }
   ],
   "source": [
    "# Write a program that prompts the user to enter a number n, and then prints all the \n",
    "# odd numbers between 1 and n.  \n",
    "\n",
    "n = int(input(\"Enter a number: \"))\n",
    "for i in range(1, n+1):\n",
    "    if i % 2 != 0:\n",
    "        print(i)\n"
   ]
  },
  {
   "cell_type": "code",
   "execution_count": 6,
   "id": "a51bac0b-6198-459e-9b15-7d44be19751e",
   "metadata": {},
   "outputs": [
    {
     "name": "stdout",
     "output_type": "stream",
     "text": [
      "Happy Birthday!\n",
      "Happy Birthday!\n",
      "Happy Birthday!\n",
      "Happy Birthday!\n",
      "Happy Birthday!\n"
     ]
    }
   ],
   "source": [
    "for i in range(5):\n",
    "    print(\"Happy Birthday!\")"
   ]
  },
  {
   "cell_type": "code",
   "execution_count": 7,
   "id": "12ebce5f-1427-4e97-9095-76437c1ae659",
   "metadata": {},
   "outputs": [
    {
     "name": "stdin",
     "output_type": "stream",
     "text": [
      "Enter a number:  12\n"
     ]
    },
    {
     "name": "stdout",
     "output_type": "stream",
     "text": [
      "The first 12 terms of the series are:\n",
      "1 4 9 16 25 36 49 64 81 100 121 144 "
     ]
    }
   ],
   "source": [
    "# Write a program that takes a number n as input from the user and generates the first \n",
    "# n terms of the series formed by squaring the natural numbers. \n",
    "# Sample output \n",
    "# Enter a number: 6 \n",
    "# The first 6 terms of the series are: \n",
    "# 1 4 9 16 25 36\n",
    "\n",
    "n = int(input(\"Enter a number: \"))\n",
    "print(\"The first\", n, \"terms of the series are:\")\n",
    "for i in range(1, n+1):\n",
    "    print(i*i, end=\" \")"
   ]
  },
  {
   "cell_type": "code",
   "execution_count": 8,
   "id": "35ebf6a4-a84c-44fb-9995-a8731e02b36a",
   "metadata": {},
   "outputs": [
    {
     "name": "stdin",
     "output_type": "stream",
     "text": [
      "Enter a number:  24\n"
     ]
    },
    {
     "name": "stdout",
     "output_type": "stream",
     "text": [
      "24 x 1 = 24\n",
      "24 x 2 = 48\n",
      "24 x 3 = 72\n",
      "24 x 4 = 96\n",
      "24 x 5 = 120\n",
      "24 x 6 = 144\n",
      "24 x 7 = 168\n",
      "24 x 8 = 192\n",
      "24 x 9 = 216\n",
      "24 x 10 = 240\n"
     ]
    }
   ],
   "source": [
    "#  Write a program that prompts the user to input a number and prints its multiplication \n",
    "# table. \n",
    "\n",
    "n = int(input(\"Enter a number: \"))\n",
    "for i in range(1, 11):\n",
    "    print(n, \"x\", i, \"=\", n*i)"
   ]
  },
  {
   "cell_type": "code",
   "execution_count": 9,
   "id": "399dc67e-ce99-4b08-b26f-7543a0a9b764",
   "metadata": {},
   "outputs": [
    {
     "name": "stdout",
     "output_type": "stream",
     "text": [
      "3 7 11 15 19 23 27 31 "
     ]
    }
   ],
   "source": [
    "# Write a Python program to print the first 8 terms of an arithmetic progression starting \n",
    "# with 3 and having a common difference of 4. \n",
    "# The program should output the following sequence: \n",
    "# 3 7 11 15 19 23 27 31 \n",
    "\n",
    "a = 3\n",
    "d = 4\n",
    "for i in range(8):\n",
    "    print(a + i*d, end=\" \")"
   ]
  },
  {
   "cell_type": "code",
   "execution_count": 10,
   "id": "06d6c565-2d43-4bb4-b4ab-1cde2cc8cf60",
   "metadata": {},
   "outputs": [
    {
     "name": "stdout",
     "output_type": "stream",
     "text": [
      "2 6 18 54 162 486 "
     ]
    }
   ],
   "source": [
    "# Write a Python program to print the first 6 terms of a geometric sequence starting \n",
    "# with 2 and having a common ratio of 3. \n",
    "# The program should output the following sequence: \n",
    "# 2 6 18 54 162 486  \n",
    "\n",
    "a = 2\n",
    "r = 3\n",
    "for i in range(6):\n",
    "    print(a * (r**i), end=\" \")"
   ]
  },
  {
   "cell_type": "code",
   "execution_count": 12,
   "id": "9486073f-ab1c-45bd-881f-783a98c1abc3",
   "metadata": {},
   "outputs": [
    {
     "name": "stdin",
     "output_type": "stream",
     "text": [
      "Enter a positive integer:  20\n"
     ]
    },
    {
     "name": "stdout",
     "output_type": "stream",
     "text": [
      "Sum is: 210\n"
     ]
    }
   ],
   "source": [
    "#  Write a program that asks the user for a positive integer value. The program should \n",
    "# calculate the sum of all the integers from 1 up to the number entered. For example, if \n",
    "# the user enters 20, the loop will find the sum of 1, 2, 3, 4, ... 20.  \n",
    "\n",
    "n = int(input(\"Enter a positive integer: \"))\n",
    "total = 0\n",
    "for i in range(1, n+1):\n",
    "    total += i\n",
    "print(\"Sum is:\", total)"
   ]
  },
  {
   "cell_type": "code",
   "execution_count": 14,
   "id": "f9d271c9-7310-447d-90d9-695d7db28d05",
   "metadata": {},
   "outputs": [
    {
     "name": "stdin",
     "output_type": "stream",
     "text": [
      "Enter a positive integer:  5\n"
     ]
    },
    {
     "name": "stdout",
     "output_type": "stream",
     "text": [
      "The sum of reciprocals from 1 to 5 is: 2.28\n"
     ]
    }
   ],
   "source": [
    "# . write a program that takes a positive integer N as input and calculates the sum of \n",
    "# the reciprocals of all numbers from 1 up to N. The program should display the final sum. \n",
    "# Output of the program should be like: \n",
    "# Enter a positive integer: 5 \n",
    "# The sum of reciprocals from 1 to 5 is: 2.28  \n",
    "\n",
    "n = int(input(\"Enter a positive integer: \"))\n",
    "total = 0\n",
    "for i in range(1, n+1):\n",
    "    total += 1/i\n",
    "print(\"The sum of reciprocals from 1 to\", n, \"is:\", round(total, 2))"
   ]
  },
  {
   "cell_type": "code",
   "execution_count": 16,
   "id": "27e287e5-ece9-43d6-82f8-13154169d4b7",
   "metadata": {},
   "outputs": [
    {
     "name": "stdin",
     "output_type": "stream",
     "text": [
      "Enter a number:  10\n",
      "Enter a number:  15\n",
      "Enter a number:  35\n",
      "Enter a number:  40\n",
      "Enter a number:  50\n"
     ]
    },
    {
     "name": "stdout",
     "output_type": "stream",
     "text": [
      "The final running total is: 150\n"
     ]
    }
   ],
   "source": [
    "#  Write a program that prompts the user to enter a number and repeats this process 5 \n",
    "# times. The program should accumulate the numbers entered and then display the final \n",
    "# running total. \n",
    "# Sample Output: \n",
    "# Enter a number: 10 \n",
    "# Enter a number: 15 \n",
    "# Enter a number: 35 \n",
    "# Enter a number: 40 \n",
    "# Enter a number: 50 \n",
    "# The final running total is: 150  \n",
    "\n",
    "total = 0\n",
    "for i in range(5):\n",
    "    num = int(input(\"Enter a number: \"))\n",
    "    total += num\n",
    "print(\"The final running total is:\", total)"
   ]
  },
  {
   "cell_type": "code",
   "execution_count": 17,
   "id": "ffe2327d-3c1d-47a5-8bd3-2f5d2d37668f",
   "metadata": {},
   "outputs": [
    {
     "name": "stdin",
     "output_type": "stream",
     "text": [
      "Enter a positive integer:  14\n"
     ]
    },
    {
     "name": "stdout",
     "output_type": "stream",
     "text": [
      "Factorial of 14 is 87178291200\n"
     ]
    }
   ],
   "source": [
    "#  Write a program that prompts the user to enter a positive integer and calculates its \n",
    "# factorial. The factorial of a positive integer 'n' is denoted as 'n!' and is calculated by \n",
    "# multiplying all the integers from 1 to 'n' together. For example, the factorial of 5 \n",
    "# (denoted as 5!) is calculated as 1 x 2 x 3 x 4 x 5. \n",
    "# The program should display the factorial value if the input is a positive number, or \n",
    "# display a message stating that the factorial does not exist for negative numbers. \n",
    "# Additionally, for an input of zero, the program should output that the factorial of 0 is 1. \n",
    "\n",
    "n = int(input(\"Enter a positive integer: \"))\n",
    "if n < 0:\n",
    "    print(\"Factorial does not exist for negative numbers\")\n",
    "elif n == 0:\n",
    "    print(\"Factorial of 0 is 1\")\n",
    "else:\n",
    "    fact = 1\n",
    "    for i in range(1, n+1):\n",
    "        fact *= i\n",
    "    print(\"Factorial of\", n, \"is\", fact)\n"
   ]
  },
  {
   "cell_type": "code",
   "execution_count": 18,
   "id": "7aa3af29-74df-4c32-bd55-cb0fcd9fd828",
   "metadata": {},
   "outputs": [
    {
     "name": "stdin",
     "output_type": "stream",
     "text": [
      "Enter base:  12\n",
      "Enter exponent:  3\n"
     ]
    },
    {
     "name": "stdout",
     "output_type": "stream",
     "text": [
      "12 raised to the power 3 is 1728\n"
     ]
    }
   ],
   "source": [
    "# Write a Python program that prompts the user to enter a base number and an \n",
    "# exponent, and then calculates the power of the base to the exponent. The program \n",
    "# should not use the exponentiation operator (**) or the math.pow() function. The \n",
    "# program should handle both positive and negative exponents. \n",
    "\n",
    "base = int(input(\"Enter base: \"))\n",
    "exp = int(input(\"Enter exponent: \"))\n",
    "result = 1\n",
    "\n",
    "if exp > 0:\n",
    "    for i in range(exp):\n",
    "        result *= base\n",
    "elif exp < 0:\n",
    "    for i in range(-exp):\n",
    "        result *= base\n",
    "    result = 1 / result\n",
    "\n",
    "print(base, \"raised to the power\", exp, \"is\", result)"
   ]
  },
  {
   "cell_type": "code",
   "execution_count": null,
   "id": "a9202d5e-8df3-46f3-a801-f87e84bca23f",
   "metadata": {},
   "outputs": [],
   "source": []
  }
 ],
 "metadata": {
  "kernelspec": {
   "display_name": "Python 3 (ipykernel)",
   "language": "python",
   "name": "python3"
  },
  "language_info": {
   "codemirror_mode": {
    "name": "ipython",
    "version": 3
   },
   "file_extension": ".py",
   "mimetype": "text/x-python",
   "name": "python",
   "nbconvert_exporter": "python",
   "pygments_lexer": "ipython3",
   "version": "3.13.5"
  }
 },
 "nbformat": 4,
 "nbformat_minor": 5
}
