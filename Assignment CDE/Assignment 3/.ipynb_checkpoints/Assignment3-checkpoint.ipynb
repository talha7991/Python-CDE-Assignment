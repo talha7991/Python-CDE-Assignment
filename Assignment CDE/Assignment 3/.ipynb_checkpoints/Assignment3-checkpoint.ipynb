{
 "cells": [
  {
   "cell_type": "code",
   "execution_count": 2,
   "id": "c2e79e99",
   "metadata": {},
   "outputs": [
    {
     "name": "stdin",
     "output_type": "stream",
     "text": [
      "Enter a string:  \"talha\"\n"
     ]
    },
    {
     "name": "stdout",
     "output_type": "stream",
     "text": [
      "Number of vowels in the given string 2\n"
     ]
    }
   ],
   "source": [
    "# # Write a program that accepts a string from user. Your program should count and display number of \n",
    "# vowels in that string.\n",
    "def count_vowels(input_string):\n",
    "    vowels = \"aeiou\"\n",
    "    count = sum(1 for char in input_string if char in vowels)\n",
    "    return count\n",
    "user_input = input(\"Enter a string: \")\n",
    "vowel_count = count_vowels(user_input)\n",
    "print(\"Number of vowels in the given string\", vowel_count)"
   ]
  },
  {
   "cell_type": "code",
   "execution_count": 7,
   "id": "3215c9cd",
   "metadata": {},
   "outputs": [
    {
     "name": "stdin",
     "output_type": "stream",
     "text": [
      "Enter a string:  \"Talha\"\n"
     ]
    },
    {
     "name": "stdout",
     "output_type": "stream",
     "text": [
      "Uppercase: 1\n",
      "Lowercase: 4\n",
      "Digits: 0\n",
      "Spaces: 0\n"
     ]
    }
   ],
   "source": [
    "# Write a program that reads a string from keyboard and display: \n",
    "# * The number of uppercase letters in the string \n",
    "# * The number of lowercase letters in the string \n",
    "# * The number of digits in the string \n",
    "# * The number of whitespace characters in the string  \n",
    "\n",
    "s = input(\"Enter a string: \")\n",
    "upper = lower = digit = whitespace = 0\n",
    "for ch in s:\n",
    "    if ch.isupper():\n",
    "        upper += 1\n",
    "    elif ch.islower():\n",
    "        lower += 1\n",
    "    elif ch.isdigit():\n",
    "        digit += 1\n",
    "    elif ch.isspace():\n",
    "        whitespace += 1\n",
    "print(\"Uppercase:\", upper)\n",
    "print(\"Lowercase:\", lower)\n",
    "print(\"Digits:\", digit)\n",
    "print(\"Spaces:\", whitespace)"
   ]
  },
  {
   "cell_type": "code",
   "execution_count": 9,
   "id": "98ead73c",
   "metadata": {},
   "outputs": [
    {
     "name": "stdin",
     "output_type": "stream",
     "text": [
      "Enter a string:  talha\n"
     ]
    },
    {
     "name": "stdout",
     "output_type": "stream",
     "text": [
      "New string: aalht\n"
     ]
    }
   ],
   "source": [
    "# . Write a Python program that accepts a string from user. Your program should create and display a \n",
    "# new string where the first and last characters have been exchanged.\n",
    "\n",
    "s = input(\"Enter a string: \")\n",
    "if len(s) > 1:\n",
    "    new_s = s[-1] + s[1:-1] + s[0]\n",
    "else:\n",
    "    new_s = s\n",
    "print(\"New string:\", new_s)"
   ]
  },
  {
   "cell_type": "code",
   "execution_count": 10,
   "id": "b93e80cf-2f86-4b0e-b8d3-0329391130d1",
   "metadata": {},
   "outputs": [
    {
     "name": "stdin",
     "output_type": "stream",
     "text": [
      "Enter a string:  Pakistan\n"
     ]
    },
    {
     "name": "stdout",
     "output_type": "stream",
     "text": [
      "Reversed string: natsikaP\n"
     ]
    }
   ],
   "source": [
    "#  Write a Python program that accepts a string from user. Your program should create a new string in \n",
    "# reverse of first string and display it. \n",
    "\n",
    "s = input(\"Enter a string: \")\n",
    "rev = \"\"\n",
    "for ch in s:\n",
    "    rev = ch + rev\n",
    "print(\"Reversed string:\", rev)"
   ]
  },
  {
   "cell_type": "code",
   "execution_count": 12,
   "id": "604fe595-de40-4ebf-a18e-ef427cf30684",
   "metadata": {},
   "outputs": [
    {
     "name": "stdin",
     "output_type": "stream",
     "text": [
      "Enter a string:  Tajikistan\n"
     ]
    },
    {
     "name": "stdout",
     "output_type": "stream",
     "text": [
      "Shifted string: ajikistanT\n"
     ]
    }
   ],
   "source": [
    "# Write a Python program that accepts a string from user. Your program should create a new string by \n",
    "# shifting one position to left.\n",
    "\n",
    "s = input(\"Enter a string: \")\n",
    "if len(s) > 0:\n",
    "    new_s = s[1:] + s[0]\n",
    "else:\n",
    "    new_s = s\n",
    "print(\"Shifted string:\", new_s)"
   ]
  },
  {
   "cell_type": "code",
   "execution_count": 20,
   "id": "5f846b02-126b-41e1-bc43-175ff54f589a",
   "metadata": {},
   "outputs": [
    {
     "name": "stdin",
     "output_type": "stream",
     "text": [
      "Enter full name (first middle last):  Muhammad Talha Hanif\n"
     ]
    },
    {
     "name": "stdout",
     "output_type": "stream",
     "text": [
      "Initials: M. T. H. \n"
     ]
    }
   ],
   "source": [
    "#  Write a program that asks the user to input his name and print its initials. Assuming that the user \n",
    "# always types first name, middle name and last name and does not include any unnecessary spaces.\n",
    "\n",
    "name = input(\"Enter full name (first middle last): \")\n",
    "initials = \"\"\n",
    "initials += name[0] + \". \"\n",
    "for i in range(len(name)):\n",
    "    if name[i] == \" \":\n",
    "        initials += name[i+1] + \". \"\n",
    "print(\"Initials:\", initials)"
   ]
  },
  {
   "cell_type": "code",
   "execution_count": 21,
   "id": "3e71ae62-9884-4272-b74f-6ad505efa417",
   "metadata": {},
   "outputs": [
    {
     "name": "stdin",
     "output_type": "stream",
     "text": [
      "Enter a string:  Hello World\n"
     ]
    },
    {
     "name": "stdout",
     "output_type": "stream",
     "text": [
      "Not Palindrome\n"
     ]
    }
   ],
   "source": [
    "# A palindrome is a string that reads the same backward as forward. For example, the words dad, \n",
    "# madam and radar are all palindromes. Write a programs that determines whether the string is a \n",
    "# palindrome. \n",
    "# Note: do not use reverse() method   \n",
    "\n",
    "s = input(\"Enter a string: \")\n",
    "is_palindrome = True\n",
    "for i in range(len(s)):\n",
    "    if s[i] != s[len(s)-1-i]:\n",
    "        is_palindrome = False\n",
    "        break\n",
    "if is_palindrome:\n",
    "    print(\"Palindrome\")\n",
    "else:\n",
    "    print(\"Not Palindrome\")"
   ]
  },
  {
   "cell_type": "code",
   "execution_count": 22,
   "id": "304f2dc6-5518-47a7-a0fa-911a71e488e3",
   "metadata": {},
   "outputs": [
    {
     "name": "stdout",
     "output_type": "stream",
     "text": [
      "SHIFT\n",
      "HIFTS\n",
      "IFTSH\n",
      "FTSHI\n",
      "TSHIF\n",
      "SHIFT\n"
     ]
    }
   ],
   "source": [
    "#  Write a program that display following output: \n",
    "# SHIFT \n",
    "# HIFTS \n",
    "# IFTSH \n",
    "# FTSHI \n",
    "# TSHIF \n",
    "# SHIFT \n",
    "\n",
    "s = \"SHIFT\"\n",
    "print(s)\n",
    "for i in range(1, len(s)):\n",
    "    print(s[i:] + s[:i])\n",
    "print(s)"
   ]
  },
  {
   "cell_type": "code",
   "execution_count": 24,
   "id": "3c2d2e06-9953-4985-9f7d-ab8b7fc4231e",
   "metadata": {},
   "outputs": [
    {
     "name": "stdin",
     "output_type": "stream",
     "text": [
      "Enter a password:  12345567\n"
     ]
    },
    {
     "name": "stdout",
     "output_type": "stream",
     "text": [
      "Password must contain at least one uppercase letter.\n"
     ]
    }
   ],
   "source": [
    "# Write a program in python that accepts a string to setup a passwords. Your entered password must \n",
    "# meet the following requirements: \n",
    "# The password must be at least eight characters long. \n",
    "# It must contain at least one uppercase letter. \n",
    "# It must contain at least one lowercase letter. \n",
    "# It must contain at least one numeric digit. \n",
    "# Your program should should perform this validation.  \n",
    "\n",
    "password = input(\"Enter a password: \")\n",
    "if len(password) < 8:\n",
    "    print(\"Password must be at least 8 characters long.\")\n",
    "elif not any(ch.isupper() for ch in password):\n",
    "    print(\"Password must contain at least one uppercase letter.\")\n",
    "elif not any(ch.islower() for ch in password):\n",
    "    print(\"Password must contain at least one lowercase letter.\")\n",
    "elif not any(ch.isdigit() for ch in password):\n",
    "    print(\"Password must contain at least one numeric digit.\")\n",
    "else:\n",
    "    print(\"Password is valid.\")"
   ]
  },
  {
   "cell_type": "code",
   "execution_count": null,
   "id": "dcca4c41-d889-4a83-bfc0-62713000c53f",
   "metadata": {},
   "outputs": [],
   "source": []
  }
 ],
 "metadata": {
  "kernelspec": {
   "display_name": "Python 3 (ipykernel)",
   "language": "python",
   "name": "python3"
  },
  "language_info": {
   "codemirror_mode": {
    "name": "ipython",
    "version": 3
   },
   "file_extension": ".py",
   "mimetype": "text/x-python",
   "name": "python",
   "nbconvert_exporter": "python",
   "pygments_lexer": "ipython3",
   "version": "3.13.5"
  }
 },
 "nbformat": 4,
 "nbformat_minor": 5
}
