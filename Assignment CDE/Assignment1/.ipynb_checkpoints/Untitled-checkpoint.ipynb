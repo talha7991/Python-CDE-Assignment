{
 "cells": [
  {
   "cell_type": "code",
   "execution_count": 3,
   "id": "ccdb8d43-6a8a-4e66-b37d-a25d8fade4e1",
   "metadata": {},
   "outputs": [
    {
     "name": "stdout",
     "output_type": "stream",
     "text": [
      "Name:\tMuhammad Talha\n",
      "Father's Name:\tMuhammad Hanif\n",
      "Date of Birth:\t12-01-2000 \n"
     ]
    }
   ],
   "source": [
    "# Print Your Name with your Father name and Date of birth using suitable escape sequence charactor\n",
    "print(\"Name:\\tMuhammad Talha\")\n",
    "print(\"Father's Name:\\tMuhammad Hanif\")\n",
    "print(\"Date of Birth:\\t12-01-2000 \")"
   ]
  },
  {
   "cell_type": "code",
   "execution_count": 4,
   "id": "ceda771d",
   "metadata": {},
   "outputs": [
    {
     "name": "stdout",
     "output_type": "stream",
     "text": [
      "My name is Muhammad Talha, my father's name is Muhammad Hanif, and I was born on 12-01-2000.\n"
     ]
    }
   ],
   "source": [
    "# Write your small bio using variables and print it using print function\n",
    "name = \"Muhammad Talha\"\n",
    "father_name = \"Muhammad Hanif\"\n",
    "dob = \"12-01-2000\"\n",
    "bio = f\"My name is {name}, my father's name is {father_name}, and I was born on {dob}.\"\n",
    "print(bio)"
   ]
  },
  {
   "cell_type": "code",
   "execution_count": 5,
   "id": "7c6c7ade",
   "metadata": {},
   "outputs": [
    {
     "name": "stdout",
     "output_type": "stream",
     "text": [
      "Addition: 15\n",
      "Subtraction: 5\n",
      "Multiplication: 50\n",
      "Division: 2.0\n",
      "Modulus: 0\n",
      "Exponentiation: 100000\n",
      "Floor Division: 2\n",
      "Equal: False\n",
      "Not Equal: True\n",
      "Greater than: True\n",
      "Less than: False\n",
      "Greater than or equal to: True\n",
      "Less than or equal to: False\n",
      "Logical AND: True\n",
      "Logical OR: True\n",
      "Logical NOT: False\n",
      "15\n"
     ]
    }
   ],
   "source": [
    "# Write a program in which use all the operators we can use in Python\n",
    "a = 10\n",
    "b = 5\n",
    "# Arithmetic Operators\n",
    "print(\"Addition:\", a + b)\n",
    "print(\"Subtraction:\", a - b)\n",
    "print(\"Multiplication:\", a * b)\n",
    "print(\"Division:\", a / b)\n",
    "print(\"Modulus:\", a % b)\n",
    "print(\"Exponentiation:\", a ** b)\n",
    "print(\"Floor Division:\", a // b)\n",
    "# Comparison Operators\n",
    "print(\"Equal:\", a == b)\n",
    "print(\"Not Equal:\", a != b)\n",
    "print(\"Greater than:\", a > b)\n",
    "print(\"Less than:\", a < b)\n",
    "print(\"Greater than or equal to:\", a >= b)\n",
    "print(\"Less than or equal to:\", a <= b)\n",
    "# Logical Operators\n",
    "print(\"Logical AND:\", a > 5 and b < 10)\n",
    "print(\"Logical OR:\", a > 5 or b > 10)\n",
    "print(\"Logical NOT:\", not(a > 5))\n",
    "# Assignment Operators\n",
    "c = a\n",
    "c += b\n",
    "print(c)"
   ]
  },
  {
   "cell_type": "code",
   "execution_count": 6,
   "id": "a71c4fad",
   "metadata": {},
   "outputs": [
    {
     "name": "stdout",
     "output_type": "stream",
     "text": [
      "Percentage: 90.0\n"
     ]
    }
   ],
   "source": [
    "# Completes the following steps of small task:\n",
    "# Mention Marks of English , Islamiat and Maths out of 100 in 3 different variables\n",
    "# Mention Variable of Total Marks and assign 300 to it\n",
    "# Calculate Percentage\n",
    "english_marks = 85\n",
    "islamiat_marks = 90\n",
    "maths_marks = 95\n",
    "total_marks = 300\n",
    "obtained_marks = english_marks + islamiat_marks + maths_marks\n",
    "percentage = (obtained_marks / total_marks) * 100\n",
    "print(\"Percentage:\", percentage)\n"
   ]
  },
  {
   "cell_type": "markdown",
   "id": "26694831",
   "metadata": {},
   "source": [
    "###Part -2 Python Basics (Conditional Statements)"
   ]
  },
  {
   "cell_type": "code",
   "execution_count": 5,
   "id": "3bb9150a",
   "metadata": {},
   "outputs": [
    {
     "name": "stdin",
     "output_type": "stream",
     "text": [
      "Enter your salary:  70000\n",
      "Enter your years of service:  8\n"
     ]
    },
    {
     "name": "stdout",
     "output_type": "stream",
     "text": [
      "You are eligible for a bonus of: 3500.0\n"
     ]
    }
   ],
   "source": [
    "# A company decided to give bonus of 5% to employee if his/her year of service is more than 5 years. Ask user for their salary and year of service and print the net bonus amount.\n",
    "salary = float(input(\"Enter your salary: \"))\n",
    "years_of_service = int(input(\"Enter your years of service: \"))\n",
    "if years_of_service > 5:\n",
    "    bonus = salary * 0.05\n",
    "    print(\"You are eligible for a bonus of:\", bonus)\n",
    "else:\n",
    "    print(\"You are not eligible for a bonus.\")\n",
    "    "
   ]
  },
  {
   "cell_type": "code",
   "execution_count": 25,
   "id": "7a09627b",
   "metadata": {},
   "outputs": [
    {
     "name": "stdin",
     "output_type": "stream",
     "text": [
      "Enter your Age:  17\n"
     ]
    },
    {
     "name": "stdout",
     "output_type": "stream",
     "text": [
      "You are not eligible for voting\n"
     ]
    }
   ],
   "source": [
    "# Write a program to check whether a person is eligible for voting or not. (accept age from user) if age is greater than 17 eligible otherwise not eligible\n",
    "age =int(input(\"Enter your Age: \"))\n",
    "if age > 17:\n",
    "     print(\"You are Eligible for voting\")\n",
    "else:\n",
    "     print(\"You are not eligible for voting\")\n"
   ]
  },
  {
   "cell_type": "code",
   "execution_count": 39,
   "id": "178d3527-1e4c-4499-b073-422b8d217c9e",
   "metadata": {},
   "outputs": [
    {
     "name": "stdin",
     "output_type": "stream",
     "text": [
      "Enter your number:  8\n"
     ]
    },
    {
     "name": "stdout",
     "output_type": "stream",
     "text": [
      "This is an even number\n"
     ]
    }
   ],
   "source": [
    "# Write a program to check whether a number entered by user is even or odd.\n",
    "number =int(input(\"Enter your number: \"))\n",
    "if number % 2 == 0:\n",
    "    print(\"This is an even number\")\n",
    "else:\n",
    "    print(\"This is an odd number\")"
   ]
  },
  {
   "cell_type": "code",
   "execution_count": 41,
   "id": "c416104a-c093-4f77-8d6a-2f9dfc112b75",
   "metadata": {},
   "outputs": [
    {
     "name": "stdin",
     "output_type": "stream",
     "text": [
      "Enter a number:  9\n"
     ]
    },
    {
     "name": "stdout",
     "output_type": "stream",
     "text": [
      "not divisble by 7\n"
     ]
    }
   ],
   "source": [
    "# Write a program to check whether a number is divisible by 7 or not. Show Answer\n",
    "number =int(input(\"Enter a number: \"))\n",
    "if number % 7 == 0:\n",
    "    print(\"Divisble by 7\")\n",
    "else:\n",
    "    print(\"not divisble by 7\")"
   ]
  },
  {
   "cell_type": "code",
   "execution_count": 49,
   "id": "c15bfa96-3c16-45c8-bd88-2016147ce30e",
   "metadata": {},
   "outputs": [
    {
     "name": "stdin",
     "output_type": "stream",
     "text": [
      "Enter a number:  5\n"
     ]
    },
    {
     "name": "stdout",
     "output_type": "stream",
     "text": [
      "Hello\n"
     ]
    }
   ],
   "source": [
    "number =int(input(\"Enter a number: \"))\n",
    "if number % 5 == 0:\n",
    "    print(\"Hello\")\n",
    "else:\n",
    "    print(\"Bye\")"
   ]
  },
  {
   "cell_type": "code",
   "execution_count": 53,
   "id": "368ce7f0-4d43-4280-9458-7eb4e435df9a",
   "metadata": {},
   "outputs": [
    {
     "name": "stdin",
     "output_type": "stream",
     "text": [
      "Enter a number:  7997\n"
     ]
    },
    {
     "name": "stdout",
     "output_type": "stream",
     "text": [
      "The last digit of a number is 7\n"
     ]
    }
   ],
   "source": [
    "# Write a program to display the last digit of a number.\n",
    "number =int(input(\"Enter a number: \"))\n",
    "Last_digit = number % 10\n",
    "print(\"The last digit of a number is\", Last_digit )"
   ]
  },
  {
   "cell_type": "code",
   "execution_count": 59,
   "id": "b78ce5a3-8d84-4c9c-b268-1450050709b6",
   "metadata": {},
   "outputs": [
    {
     "name": "stdin",
     "output_type": "stream",
     "text": [
      "Enter a number:  10\n",
      "Enter a number:  30\n"
     ]
    },
    {
     "name": "stdout",
     "output_type": "stream",
     "text": [
      "This is the greatest number 30\n"
     ]
    }
   ],
   "source": [
    "# Take two int values from user and print greatest among them.\n",
    "num1 = int(input(\"Enter a number: \"))\n",
    "num2 = int(input(\"Enter a number: \"))\n",
    "if num1 > num2:\n",
    "    print(\"This is the greatest number\", num1)\n",
    "elif num2 > num1:\n",
    "    print(\"This is the greatest number\", num2)"
   ]
  },
  {
   "cell_type": "code",
   "execution_count": 73,
   "id": "1fd2a5a7-a0eb-4975-aa43-78162e240b71",
   "metadata": {},
   "outputs": [
    {
     "name": "stdin",
     "output_type": "stream",
     "text": [
      "Enter a number of quantity:  300\n"
     ]
    },
    {
     "name": "stdout",
     "output_type": "stream",
     "text": [
      "Total cost: 27000.0\n",
      "Discount Applied 3000.0\n"
     ]
    }
   ],
   "source": [
    "# A shop will give discount of 10% if the cost of purchased quantity is more than 1000. Ask user for quantity Suppose, one unit will cost 100. Judge and print total cost for user.\n",
    "quantity =int(input(\"Enter a number of quantity: \"))\n",
    "unit_price = 100\n",
    "total_cost = quantity * unit_price\n",
    "if total_cost > 1000:\n",
    "    discount = total_cost * 0.10\n",
    "    total_cost = total_cost - discount\n",
    "    print(\"Total cost:\", total_cost)\n",
    "    print(\"Discount Applied\", discount)\n",
    "\n"
   ]
  },
  {
   "cell_type": "code",
   "execution_count": null,
   "id": "ab96d4ab-10cc-4179-8788-ab4b5cdca9e3",
   "metadata": {},
   "outputs": [],
   "source": []
  }
 ],
 "metadata": {
  "kernelspec": {
   "display_name": "Python 3 (ipykernel)",
   "language": "python",
   "name": "python3"
  },
  "language_info": {
   "codemirror_mode": {
    "name": "ipython",
    "version": 3
   },
   "file_extension": ".py",
   "mimetype": "text/x-python",
   "name": "python",
   "nbconvert_exporter": "python",
   "pygments_lexer": "ipython3",
   "version": "3.12.7"
  }
 },
 "nbformat": 4,
 "nbformat_minor": 5
}
